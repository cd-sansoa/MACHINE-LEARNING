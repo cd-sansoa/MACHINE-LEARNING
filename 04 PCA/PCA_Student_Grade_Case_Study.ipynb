{
 "cells": [
  {
   "cell_type": "markdown",
   "metadata": {},
   "source": [
    "# Principal Component Analysis"
   ]
  },
  {
   "cell_type": "code",
   "execution_count": 4,
   "metadata": {},
   "outputs": [],
   "source": [
    "import numpy as np\n",
    "import pandas as pd\n",
    "from sklearn.model_selection import cross_val_score\n",
    "from sklearn.preprocessing import LabelEncoder\n",
    "from sklearn.decomposition import PCA\n",
    "import matplotlib.pyplot as plt\n",
    "from sklearn import metrics\n",
    "from sklearn import linear_model\n",
    "from sklearn.model_selection import train_test_split\n",
    "import seaborn as sns\n",
    "%matplotlib inline"
   ]
  },
  {
   "cell_type": "code",
   "execution_count": 6,
   "metadata": {},
   "outputs": [
    {
     "data": {
      "text/html": [
       "<div>\n",
       "<style scoped>\n",
       "    .dataframe tbody tr th:only-of-type {\n",
       "        vertical-align: middle;\n",
       "    }\n",
       "\n",
       "    .dataframe tbody tr th {\n",
       "        vertical-align: top;\n",
       "    }\n",
       "\n",
       "    .dataframe thead th {\n",
       "        text-align: right;\n",
       "    }\n",
       "</style>\n",
       "<table border=\"1\" class=\"dataframe\">\n",
       "  <thead>\n",
       "    <tr style=\"text-align: right;\">\n",
       "      <th></th>\n",
       "      <th>school</th>\n",
       "      <th>sex</th>\n",
       "      <th>age</th>\n",
       "      <th>address</th>\n",
       "      <th>famsize</th>\n",
       "      <th>Pstatus</th>\n",
       "      <th>Medu</th>\n",
       "      <th>Fedu</th>\n",
       "      <th>Mjob</th>\n",
       "      <th>Fjob</th>\n",
       "      <th>...</th>\n",
       "      <th>famrel</th>\n",
       "      <th>freetime</th>\n",
       "      <th>goout</th>\n",
       "      <th>Dalc</th>\n",
       "      <th>Walc</th>\n",
       "      <th>health</th>\n",
       "      <th>absences</th>\n",
       "      <th>G1</th>\n",
       "      <th>G2</th>\n",
       "      <th>G3</th>\n",
       "    </tr>\n",
       "  </thead>\n",
       "  <tbody>\n",
       "    <tr>\n",
       "      <td>0</td>\n",
       "      <td>GP</td>\n",
       "      <td>F</td>\n",
       "      <td>18</td>\n",
       "      <td>U</td>\n",
       "      <td>GT3</td>\n",
       "      <td>A</td>\n",
       "      <td>4</td>\n",
       "      <td>4</td>\n",
       "      <td>at_home</td>\n",
       "      <td>teacher</td>\n",
       "      <td>...</td>\n",
       "      <td>4</td>\n",
       "      <td>3</td>\n",
       "      <td>4</td>\n",
       "      <td>1</td>\n",
       "      <td>1</td>\n",
       "      <td>3</td>\n",
       "      <td>6</td>\n",
       "      <td>5</td>\n",
       "      <td>6</td>\n",
       "      <td>6</td>\n",
       "    </tr>\n",
       "    <tr>\n",
       "      <td>1</td>\n",
       "      <td>GP</td>\n",
       "      <td>F</td>\n",
       "      <td>17</td>\n",
       "      <td>U</td>\n",
       "      <td>GT3</td>\n",
       "      <td>T</td>\n",
       "      <td>1</td>\n",
       "      <td>1</td>\n",
       "      <td>at_home</td>\n",
       "      <td>other</td>\n",
       "      <td>...</td>\n",
       "      <td>5</td>\n",
       "      <td>3</td>\n",
       "      <td>3</td>\n",
       "      <td>1</td>\n",
       "      <td>1</td>\n",
       "      <td>3</td>\n",
       "      <td>4</td>\n",
       "      <td>5</td>\n",
       "      <td>5</td>\n",
       "      <td>6</td>\n",
       "    </tr>\n",
       "    <tr>\n",
       "      <td>2</td>\n",
       "      <td>GP</td>\n",
       "      <td>F</td>\n",
       "      <td>15</td>\n",
       "      <td>U</td>\n",
       "      <td>LE3</td>\n",
       "      <td>T</td>\n",
       "      <td>1</td>\n",
       "      <td>1</td>\n",
       "      <td>at_home</td>\n",
       "      <td>other</td>\n",
       "      <td>...</td>\n",
       "      <td>4</td>\n",
       "      <td>3</td>\n",
       "      <td>2</td>\n",
       "      <td>2</td>\n",
       "      <td>3</td>\n",
       "      <td>3</td>\n",
       "      <td>10</td>\n",
       "      <td>7</td>\n",
       "      <td>8</td>\n",
       "      <td>10</td>\n",
       "    </tr>\n",
       "    <tr>\n",
       "      <td>3</td>\n",
       "      <td>GP</td>\n",
       "      <td>F</td>\n",
       "      <td>15</td>\n",
       "      <td>U</td>\n",
       "      <td>GT3</td>\n",
       "      <td>T</td>\n",
       "      <td>4</td>\n",
       "      <td>2</td>\n",
       "      <td>health</td>\n",
       "      <td>services</td>\n",
       "      <td>...</td>\n",
       "      <td>3</td>\n",
       "      <td>2</td>\n",
       "      <td>2</td>\n",
       "      <td>1</td>\n",
       "      <td>1</td>\n",
       "      <td>5</td>\n",
       "      <td>2</td>\n",
       "      <td>15</td>\n",
       "      <td>14</td>\n",
       "      <td>15</td>\n",
       "    </tr>\n",
       "    <tr>\n",
       "      <td>4</td>\n",
       "      <td>GP</td>\n",
       "      <td>F</td>\n",
       "      <td>16</td>\n",
       "      <td>U</td>\n",
       "      <td>GT3</td>\n",
       "      <td>T</td>\n",
       "      <td>3</td>\n",
       "      <td>3</td>\n",
       "      <td>other</td>\n",
       "      <td>other</td>\n",
       "      <td>...</td>\n",
       "      <td>4</td>\n",
       "      <td>3</td>\n",
       "      <td>2</td>\n",
       "      <td>1</td>\n",
       "      <td>2</td>\n",
       "      <td>5</td>\n",
       "      <td>4</td>\n",
       "      <td>6</td>\n",
       "      <td>10</td>\n",
       "      <td>10</td>\n",
       "    </tr>\n",
       "  </tbody>\n",
       "</table>\n",
       "<p>5 rows × 33 columns</p>\n",
       "</div>"
      ],
      "text/plain": [
       "  school sex  age address famsize Pstatus  Medu  Fedu     Mjob      Fjob  ...  \\\n",
       "0     GP   F   18       U     GT3       A     4     4  at_home   teacher  ...   \n",
       "1     GP   F   17       U     GT3       T     1     1  at_home     other  ...   \n",
       "2     GP   F   15       U     LE3       T     1     1  at_home     other  ...   \n",
       "3     GP   F   15       U     GT3       T     4     2   health  services  ...   \n",
       "4     GP   F   16       U     GT3       T     3     3    other     other  ...   \n",
       "\n",
       "  famrel freetime  goout  Dalc  Walc health absences  G1  G2  G3  \n",
       "0      4        3      4     1     1      3        6   5   6   6  \n",
       "1      5        3      3     1     1      3        4   5   5   6  \n",
       "2      4        3      2     2     3      3       10   7   8  10  \n",
       "3      3        2      2     1     1      5        2  15  14  15  \n",
       "4      4        3      2     1     2      5        4   6  10  10  \n",
       "\n",
       "[5 rows x 33 columns]"
      ]
     },
     "execution_count": 6,
     "metadata": {},
     "output_type": "execute_result"
    }
   ],
   "source": [
    "student_data_mat   = pd.read_csv(\"student-mat.csv\",delimiter=\";\")\n",
    "student_data_por   = pd.read_csv(\"student-por.csv\",delimiter=\";\")\n",
    "student_data = pd.merge(student_data_mat,student_data_por,how=\"outer\")\n",
    "student_data.head()"
   ]
  },
  {
   "cell_type": "code",
   "execution_count": 7,
   "metadata": {},
   "outputs": [
    {
     "data": {
      "text/plain": [
       "Index(['school', 'sex', 'address', 'famsize', 'Pstatus', 'Mjob', 'Fjob',\n",
       "       'reason', 'guardian', 'schoolsup', 'famsup', 'paid', 'activities',\n",
       "       'nursery', 'higher', 'internet', 'romantic'],\n",
       "      dtype='object')"
      ]
     },
     "execution_count": 7,
     "metadata": {},
     "output_type": "execute_result"
    }
   ],
   "source": [
    "col_str = student_data.columns[student_data.dtypes == object]\n",
    "col_str"
   ]
  },
  {
   "cell_type": "code",
   "execution_count": 8,
   "metadata": {},
   "outputs": [
    {
     "name": "stdout",
     "output_type": "stream",
     "text": [
      "<class 'pandas.core.frame.DataFrame'>\n",
      "Int64Index: 1044 entries, 0 to 1043\n",
      "Data columns (total 42 columns):\n",
      "age                  1044 non-null int64\n",
      "Medu                 1044 non-null int64\n",
      "Fedu                 1044 non-null int64\n",
      "traveltime           1044 non-null int64\n",
      "studytime            1044 non-null int64\n",
      "failures             1044 non-null int64\n",
      "famrel               1044 non-null int64\n",
      "freetime             1044 non-null int64\n",
      "goout                1044 non-null int64\n",
      "Dalc                 1044 non-null int64\n",
      "Walc                 1044 non-null int64\n",
      "health               1044 non-null int64\n",
      "absences             1044 non-null int64\n",
      "G1                   1044 non-null int64\n",
      "G2                   1044 non-null int64\n",
      "G3                   1044 non-null int64\n",
      "school_MS            1044 non-null uint8\n",
      "sex_M                1044 non-null uint8\n",
      "address_U            1044 non-null uint8\n",
      "famsize_LE3          1044 non-null uint8\n",
      "Pstatus_T            1044 non-null uint8\n",
      "Mjob_health          1044 non-null uint8\n",
      "Mjob_other           1044 non-null uint8\n",
      "Mjob_services        1044 non-null uint8\n",
      "Mjob_teacher         1044 non-null uint8\n",
      "Fjob_health          1044 non-null uint8\n",
      "Fjob_other           1044 non-null uint8\n",
      "Fjob_services        1044 non-null uint8\n",
      "Fjob_teacher         1044 non-null uint8\n",
      "reason_home          1044 non-null uint8\n",
      "reason_other         1044 non-null uint8\n",
      "reason_reputation    1044 non-null uint8\n",
      "guardian_mother      1044 non-null uint8\n",
      "guardian_other       1044 non-null uint8\n",
      "schoolsup_yes        1044 non-null uint8\n",
      "famsup_yes           1044 non-null uint8\n",
      "paid_yes             1044 non-null uint8\n",
      "activities_yes       1044 non-null uint8\n",
      "nursery_yes          1044 non-null uint8\n",
      "higher_yes           1044 non-null uint8\n",
      "internet_yes         1044 non-null uint8\n",
      "romantic_yes         1044 non-null uint8\n",
      "dtypes: int64(16), uint8(26)\n",
      "memory usage: 165.2 KB\n"
     ]
    }
   ],
   "source": [
    "student_data = pd.get_dummies(student_data, columns = col_str, drop_first = True)\n",
    "student_data.info()"
   ]
  },
  {
   "cell_type": "code",
   "execution_count": 9,
   "metadata": {},
   "outputs": [
    {
     "name": "stdout",
     "output_type": "stream",
     "text": [
      "          G1        G2        G3\n",
      "G1  1.000000  0.858739  0.809142\n",
      "G2  0.858739  1.000000  0.910743\n",
      "G3  0.809142  0.910743  1.000000\n"
     ]
    }
   ],
   "source": [
    "print(student_data[[\"G1\",\"G2\",\"G3\"]].corr())"
   ]
  },
  {
   "cell_type": "code",
   "execution_count": 10,
   "metadata": {},
   "outputs": [],
   "source": [
    " # Since, G1,G2,G3 have very high correlation, we can drop G1/G2\n",
    "student_data.drop(axis = 1,labels= [\"G1\"],inplace=True)\n",
    "#student_data.drop(axis = 1,labels= [\"higher_yes\",\"Mjob_health\",\"school_MS\",],inplace=True)"
   ]
  },
  {
   "cell_type": "code",
   "execution_count": 11,
   "metadata": {},
   "outputs": [],
   "source": [
    "label = student_data[\"G3\"].values\n",
    "predictors = student_data.drop(axis = 1,labels= [\"G3\"]).values"
   ]
  },
  {
   "cell_type": "code",
   "execution_count": 12,
   "metadata": {},
   "outputs": [
    {
     "data": {
      "text/plain": [
       "array([[18,  4,  4, ...,  1,  0,  0],\n",
       "       [17,  1,  1, ...,  1,  1,  0],\n",
       "       [15,  1,  1, ...,  1,  1,  0],\n",
       "       ...,\n",
       "       [18,  1,  1, ...,  1,  0,  0],\n",
       "       [17,  3,  1, ...,  1,  1,  0],\n",
       "       [18,  3,  2, ...,  1,  1,  0]], dtype=int64)"
      ]
     },
     "execution_count": 12,
     "metadata": {},
     "output_type": "execute_result"
    }
   ],
   "source": [
    "predictors"
   ]
  },
  {
   "cell_type": "code",
   "execution_count": 13,
   "metadata": {},
   "outputs": [
    {
     "data": {
      "text/html": [
       "<div>\n",
       "<style scoped>\n",
       "    .dataframe tbody tr th:only-of-type {\n",
       "        vertical-align: middle;\n",
       "    }\n",
       "\n",
       "    .dataframe tbody tr th {\n",
       "        vertical-align: top;\n",
       "    }\n",
       "\n",
       "    .dataframe thead th {\n",
       "        text-align: right;\n",
       "    }\n",
       "</style>\n",
       "<table border=\"1\" class=\"dataframe\">\n",
       "  <thead>\n",
       "    <tr style=\"text-align: right;\">\n",
       "      <th></th>\n",
       "      <th>age</th>\n",
       "      <th>Medu</th>\n",
       "      <th>Fedu</th>\n",
       "      <th>traveltime</th>\n",
       "      <th>studytime</th>\n",
       "      <th>failures</th>\n",
       "      <th>famrel</th>\n",
       "      <th>freetime</th>\n",
       "      <th>goout</th>\n",
       "      <th>Dalc</th>\n",
       "      <th>...</th>\n",
       "      <th>guardian_mother</th>\n",
       "      <th>guardian_other</th>\n",
       "      <th>schoolsup_yes</th>\n",
       "      <th>famsup_yes</th>\n",
       "      <th>paid_yes</th>\n",
       "      <th>activities_yes</th>\n",
       "      <th>nursery_yes</th>\n",
       "      <th>higher_yes</th>\n",
       "      <th>internet_yes</th>\n",
       "      <th>romantic_yes</th>\n",
       "    </tr>\n",
       "  </thead>\n",
       "  <tbody>\n",
       "    <tr>\n",
       "      <td>0</td>\n",
       "      <td>18</td>\n",
       "      <td>4</td>\n",
       "      <td>4</td>\n",
       "      <td>2</td>\n",
       "      <td>2</td>\n",
       "      <td>0</td>\n",
       "      <td>4</td>\n",
       "      <td>3</td>\n",
       "      <td>4</td>\n",
       "      <td>1</td>\n",
       "      <td>...</td>\n",
       "      <td>1</td>\n",
       "      <td>0</td>\n",
       "      <td>1</td>\n",
       "      <td>0</td>\n",
       "      <td>0</td>\n",
       "      <td>0</td>\n",
       "      <td>1</td>\n",
       "      <td>1</td>\n",
       "      <td>0</td>\n",
       "      <td>0</td>\n",
       "    </tr>\n",
       "    <tr>\n",
       "      <td>1</td>\n",
       "      <td>17</td>\n",
       "      <td>1</td>\n",
       "      <td>1</td>\n",
       "      <td>1</td>\n",
       "      <td>2</td>\n",
       "      <td>0</td>\n",
       "      <td>5</td>\n",
       "      <td>3</td>\n",
       "      <td>3</td>\n",
       "      <td>1</td>\n",
       "      <td>...</td>\n",
       "      <td>0</td>\n",
       "      <td>0</td>\n",
       "      <td>0</td>\n",
       "      <td>1</td>\n",
       "      <td>0</td>\n",
       "      <td>0</td>\n",
       "      <td>0</td>\n",
       "      <td>1</td>\n",
       "      <td>1</td>\n",
       "      <td>0</td>\n",
       "    </tr>\n",
       "    <tr>\n",
       "      <td>2</td>\n",
       "      <td>15</td>\n",
       "      <td>1</td>\n",
       "      <td>1</td>\n",
       "      <td>1</td>\n",
       "      <td>2</td>\n",
       "      <td>3</td>\n",
       "      <td>4</td>\n",
       "      <td>3</td>\n",
       "      <td>2</td>\n",
       "      <td>2</td>\n",
       "      <td>...</td>\n",
       "      <td>1</td>\n",
       "      <td>0</td>\n",
       "      <td>1</td>\n",
       "      <td>0</td>\n",
       "      <td>1</td>\n",
       "      <td>0</td>\n",
       "      <td>1</td>\n",
       "      <td>1</td>\n",
       "      <td>1</td>\n",
       "      <td>0</td>\n",
       "    </tr>\n",
       "    <tr>\n",
       "      <td>3</td>\n",
       "      <td>15</td>\n",
       "      <td>4</td>\n",
       "      <td>2</td>\n",
       "      <td>1</td>\n",
       "      <td>3</td>\n",
       "      <td>0</td>\n",
       "      <td>3</td>\n",
       "      <td>2</td>\n",
       "      <td>2</td>\n",
       "      <td>1</td>\n",
       "      <td>...</td>\n",
       "      <td>1</td>\n",
       "      <td>0</td>\n",
       "      <td>0</td>\n",
       "      <td>1</td>\n",
       "      <td>1</td>\n",
       "      <td>1</td>\n",
       "      <td>1</td>\n",
       "      <td>1</td>\n",
       "      <td>1</td>\n",
       "      <td>1</td>\n",
       "    </tr>\n",
       "    <tr>\n",
       "      <td>4</td>\n",
       "      <td>16</td>\n",
       "      <td>3</td>\n",
       "      <td>3</td>\n",
       "      <td>1</td>\n",
       "      <td>2</td>\n",
       "      <td>0</td>\n",
       "      <td>4</td>\n",
       "      <td>3</td>\n",
       "      <td>2</td>\n",
       "      <td>1</td>\n",
       "      <td>...</td>\n",
       "      <td>0</td>\n",
       "      <td>0</td>\n",
       "      <td>0</td>\n",
       "      <td>1</td>\n",
       "      <td>1</td>\n",
       "      <td>0</td>\n",
       "      <td>1</td>\n",
       "      <td>1</td>\n",
       "      <td>0</td>\n",
       "      <td>0</td>\n",
       "    </tr>\n",
       "    <tr>\n",
       "      <td>...</td>\n",
       "      <td>...</td>\n",
       "      <td>...</td>\n",
       "      <td>...</td>\n",
       "      <td>...</td>\n",
       "      <td>...</td>\n",
       "      <td>...</td>\n",
       "      <td>...</td>\n",
       "      <td>...</td>\n",
       "      <td>...</td>\n",
       "      <td>...</td>\n",
       "      <td>...</td>\n",
       "      <td>...</td>\n",
       "      <td>...</td>\n",
       "      <td>...</td>\n",
       "      <td>...</td>\n",
       "      <td>...</td>\n",
       "      <td>...</td>\n",
       "      <td>...</td>\n",
       "      <td>...</td>\n",
       "      <td>...</td>\n",
       "      <td>...</td>\n",
       "    </tr>\n",
       "    <tr>\n",
       "      <td>1039</td>\n",
       "      <td>19</td>\n",
       "      <td>2</td>\n",
       "      <td>3</td>\n",
       "      <td>1</td>\n",
       "      <td>3</td>\n",
       "      <td>1</td>\n",
       "      <td>5</td>\n",
       "      <td>4</td>\n",
       "      <td>2</td>\n",
       "      <td>1</td>\n",
       "      <td>...</td>\n",
       "      <td>1</td>\n",
       "      <td>0</td>\n",
       "      <td>0</td>\n",
       "      <td>0</td>\n",
       "      <td>0</td>\n",
       "      <td>1</td>\n",
       "      <td>0</td>\n",
       "      <td>1</td>\n",
       "      <td>1</td>\n",
       "      <td>0</td>\n",
       "    </tr>\n",
       "    <tr>\n",
       "      <td>1040</td>\n",
       "      <td>18</td>\n",
       "      <td>3</td>\n",
       "      <td>1</td>\n",
       "      <td>1</td>\n",
       "      <td>2</td>\n",
       "      <td>0</td>\n",
       "      <td>4</td>\n",
       "      <td>3</td>\n",
       "      <td>4</td>\n",
       "      <td>1</td>\n",
       "      <td>...</td>\n",
       "      <td>1</td>\n",
       "      <td>0</td>\n",
       "      <td>0</td>\n",
       "      <td>1</td>\n",
       "      <td>0</td>\n",
       "      <td>0</td>\n",
       "      <td>1</td>\n",
       "      <td>1</td>\n",
       "      <td>1</td>\n",
       "      <td>0</td>\n",
       "    </tr>\n",
       "    <tr>\n",
       "      <td>1041</td>\n",
       "      <td>18</td>\n",
       "      <td>1</td>\n",
       "      <td>1</td>\n",
       "      <td>2</td>\n",
       "      <td>2</td>\n",
       "      <td>0</td>\n",
       "      <td>1</td>\n",
       "      <td>1</td>\n",
       "      <td>1</td>\n",
       "      <td>1</td>\n",
       "      <td>...</td>\n",
       "      <td>1</td>\n",
       "      <td>0</td>\n",
       "      <td>0</td>\n",
       "      <td>0</td>\n",
       "      <td>0</td>\n",
       "      <td>1</td>\n",
       "      <td>1</td>\n",
       "      <td>1</td>\n",
       "      <td>0</td>\n",
       "      <td>0</td>\n",
       "    </tr>\n",
       "    <tr>\n",
       "      <td>1042</td>\n",
       "      <td>17</td>\n",
       "      <td>3</td>\n",
       "      <td>1</td>\n",
       "      <td>2</td>\n",
       "      <td>1</td>\n",
       "      <td>0</td>\n",
       "      <td>2</td>\n",
       "      <td>4</td>\n",
       "      <td>5</td>\n",
       "      <td>3</td>\n",
       "      <td>...</td>\n",
       "      <td>1</td>\n",
       "      <td>0</td>\n",
       "      <td>0</td>\n",
       "      <td>0</td>\n",
       "      <td>0</td>\n",
       "      <td>0</td>\n",
       "      <td>0</td>\n",
       "      <td>1</td>\n",
       "      <td>1</td>\n",
       "      <td>0</td>\n",
       "    </tr>\n",
       "    <tr>\n",
       "      <td>1043</td>\n",
       "      <td>18</td>\n",
       "      <td>3</td>\n",
       "      <td>2</td>\n",
       "      <td>3</td>\n",
       "      <td>1</td>\n",
       "      <td>0</td>\n",
       "      <td>4</td>\n",
       "      <td>4</td>\n",
       "      <td>1</td>\n",
       "      <td>3</td>\n",
       "      <td>...</td>\n",
       "      <td>1</td>\n",
       "      <td>0</td>\n",
       "      <td>0</td>\n",
       "      <td>0</td>\n",
       "      <td>0</td>\n",
       "      <td>0</td>\n",
       "      <td>0</td>\n",
       "      <td>1</td>\n",
       "      <td>1</td>\n",
       "      <td>0</td>\n",
       "    </tr>\n",
       "  </tbody>\n",
       "</table>\n",
       "<p>1044 rows × 41 columns</p>\n",
       "</div>"
      ],
      "text/plain": [
       "      age  Medu  Fedu  traveltime  studytime  failures  famrel  freetime  \\\n",
       "0      18     4     4           2          2         0       4         3   \n",
       "1      17     1     1           1          2         0       5         3   \n",
       "2      15     1     1           1          2         3       4         3   \n",
       "3      15     4     2           1          3         0       3         2   \n",
       "4      16     3     3           1          2         0       4         3   \n",
       "...   ...   ...   ...         ...        ...       ...     ...       ...   \n",
       "1039   19     2     3           1          3         1       5         4   \n",
       "1040   18     3     1           1          2         0       4         3   \n",
       "1041   18     1     1           2          2         0       1         1   \n",
       "1042   17     3     1           2          1         0       2         4   \n",
       "1043   18     3     2           3          1         0       4         4   \n",
       "\n",
       "      goout  Dalc  ...  guardian_mother  guardian_other  schoolsup_yes  \\\n",
       "0         4     1  ...                1               0              1   \n",
       "1         3     1  ...                0               0              0   \n",
       "2         2     2  ...                1               0              1   \n",
       "3         2     1  ...                1               0              0   \n",
       "4         2     1  ...                0               0              0   \n",
       "...     ...   ...  ...              ...             ...            ...   \n",
       "1039      2     1  ...                1               0              0   \n",
       "1040      4     1  ...                1               0              0   \n",
       "1041      1     1  ...                1               0              0   \n",
       "1042      5     3  ...                1               0              0   \n",
       "1043      1     3  ...                1               0              0   \n",
       "\n",
       "      famsup_yes  paid_yes  activities_yes  nursery_yes  higher_yes  \\\n",
       "0              0         0               0            1           1   \n",
       "1              1         0               0            0           1   \n",
       "2              0         1               0            1           1   \n",
       "3              1         1               1            1           1   \n",
       "4              1         1               0            1           1   \n",
       "...          ...       ...             ...          ...         ...   \n",
       "1039           0         0               1            0           1   \n",
       "1040           1         0               0            1           1   \n",
       "1041           0         0               1            1           1   \n",
       "1042           0         0               0            0           1   \n",
       "1043           0         0               0            0           1   \n",
       "\n",
       "      internet_yes  romantic_yes  \n",
       "0                0             0  \n",
       "1                1             0  \n",
       "2                1             0  \n",
       "3                1             1  \n",
       "4                0             0  \n",
       "...            ...           ...  \n",
       "1039             1             0  \n",
       "1040             1             0  \n",
       "1041             0             0  \n",
       "1042             1             0  \n",
       "1043             1             0  \n",
       "\n",
       "[1044 rows x 41 columns]"
      ]
     },
     "execution_count": 13,
     "metadata": {},
     "output_type": "execute_result"
    }
   ],
   "source": [
    "student_data"
   ]
  },
  {
   "cell_type": "code",
   "execution_count": 14,
   "metadata": {},
   "outputs": [
    {
     "data": {
      "text/plain": [
       "array([5.79236396e-01, 1.64963457e-01, 3.88164111e-02, 3.28052200e-02,\n",
       "       2.92022565e-02, 2.09482956e-02, 1.90656757e-02, 1.18552767e-02,\n",
       "       1.14649908e-02, 9.57763624e-03, 8.10952197e-03, 7.22346787e-03,\n",
       "       6.19826896e-03, 5.77905599e-03, 4.96259970e-03, 4.01558577e-03,\n",
       "       3.79536791e-03, 3.71148039e-03, 3.46159046e-03, 3.35688248e-03,\n",
       "       3.23435693e-03, 2.87833995e-03, 2.54589136e-03, 2.36156079e-03,\n",
       "       2.24614821e-03, 2.18192181e-03, 2.14307522e-03, 1.95102443e-03,\n",
       "       1.84735421e-03, 1.55547384e-03, 1.36945892e-03, 1.32873513e-03,\n",
       "       1.26143694e-03, 1.08170666e-03, 9.16154637e-04, 9.06073498e-04,\n",
       "       6.16485005e-04, 5.58581821e-04, 3.09459007e-04, 1.57324596e-04])"
      ]
     },
     "execution_count": 14,
     "metadata": {},
     "output_type": "execute_result"
    }
   ],
   "source": [
    "pca = PCA(n_components=len(student_data.columns)-1)\n",
    "pca.fit(predictors)\n",
    "variance_ratio = pca.explained_variance_ratio_\n",
    "variance_ratio"
   ]
  },
  {
   "cell_type": "code",
   "execution_count": 15,
   "metadata": {},
   "outputs": [
    {
     "data": {
      "image/png": "[encoded data removed]",
      "text/plain": [
       "<Figure size 720x360 with 1 Axes>"
      ]
     },
     "metadata": {
      "needs_background": "light"
     },
     "output_type": "display_data"
    }
   ],
   "source": [
    "plt.figure(figsize=[10,5])\n",
    "features = range(pca.n_components_)\n",
    "plt.bar(features, pca.explained_variance_)\n",
    "plt.xlabel('PCA feature')\n",
    "plt.ylabel('variance')\n",
    "plt.xticks(features)\n",
    "plt.show()"
   ]
  },
  {
   "cell_type": "code",
   "execution_count": 16,
   "metadata": {},
   "outputs": [
    {
     "data": {
      "text/plain": [
       "array([3.88192413e+01, 1.10555143e+01, 2.60139667e+00, 2.19853891e+00,\n",
       "       1.95707564e+00, 1.40391203e+00, 1.27774268e+00, 7.94516457e-01,\n",
       "       7.68360293e-01, 6.41873638e-01, 5.43483615e-01, 4.84102077e-01,\n",
       "       4.15395338e-01, 3.87300541e-01, 3.32583306e-01, 2.69116365e-01,\n",
       "       2.54357813e-01, 2.48735843e-01, 2.31988729e-01, 2.24971415e-01,\n",
       "       2.16760002e-01, 1.92900470e-01, 1.70620444e-01, 1.58266986e-01,\n",
       "       1.50532270e-01, 1.46227948e-01, 1.43624528e-01, 1.30753676e-01,\n",
       "       1.23805910e-01, 1.04244683e-01, 9.17783427e-02, 8.90491169e-02,\n",
       "       8.45389295e-02, 7.24937732e-02, 6.13988144e-02, 6.07231970e-02,\n",
       "       4.13155671e-02, 3.74350139e-02, 2.07393112e-02, 1.05435734e-02])"
      ]
     },
     "execution_count": 16,
     "metadata": {},
     "output_type": "execute_result"
    }
   ],
   "source": [
    "pca.explained_variance_"
   ]
  },
  {
   "cell_type": "code",
   "execution_count": 17,
   "metadata": {},
   "outputs": [
    {
     "name": "stdout",
     "output_type": "stream",
     "text": [
      "[ 57.92  74.42  78.3   81.58  84.5   86.59  88.5   89.69  90.84  91.8\n",
      "  92.61  93.33  93.95  94.53  95.03  95.43  95.81  96.18  96.53  96.87\n",
      "  97.19  97.48  97.73  97.97  98.19  98.41  98.62  98.82  99.    99.16\n",
      "  99.3   99.43  99.56  99.67  99.76  99.85  99.91  99.97 100.   100.02]\n"
     ]
    },
    {
     "data": {
      "text/plain": [
       "[<matplotlib.lines.Line2D at 0x1eb2674a248>]"
      ]
     },
     "execution_count": 17,
     "metadata": {},
     "output_type": "execute_result"
    },
    {
     "data": {
      "image/png": "[encoded data removed]",
      "text/plain": [
       "<Figure size 432x288 with 1 Axes>"
      ]
     },
     "metadata": {
      "needs_background": "light"
     },
     "output_type": "display_data"
    }
   ],
   "source": [
    "variance_ratio_cum_sum=np.cumsum(np.round(pca.explained_variance_ratio_, decimals=4)*100)\n",
    "print(variance_ratio_cum_sum)\n",
    "plt.plot(variance_ratio_cum_sum)"
   ]
  },
  {
   "cell_type": "code",
   "execution_count": 18,
   "metadata": {},
   "outputs": [
    {
     "name": "stdout",
     "output_type": "stream",
     "text": [
      "[[ 1.92298329  4.71291021 -1.07685432 ...  2.06798623  0.23602156\n",
      "  -0.60301026]\n",
      " [-0.09761924  6.2152225  -2.22763967 ...  0.05951487  1.03563906\n",
      "  -0.29551364]\n",
      " [ 5.73390651  3.12482338 -1.00989074 ... -2.38958213 -0.21704932\n",
      "   0.62165534]\n",
      " ...\n",
      " [ 1.45570448 -0.64383534 -2.41851134 ...  0.06639842 -2.82231684\n",
      "  -0.7019797 ]\n",
      " [ 1.7730034   1.46090908  2.1773092  ... -1.06103291 -0.36389584\n",
      "   0.12318981]\n",
      " [-0.33400604  0.60258662  1.71590152 ...  0.25515986 -1.83654039\n",
      "   2.54953991]]\n"
     ]
    }
   ],
   "source": [
    "#Looking at above plot I'm taking 8 variables\n",
    "pca = PCA(n_components=8)\n",
    "pca.fit(predictors)\n",
    "Transformed_vector =pca.fit_transform(predictors)\n",
    "print(Transformed_vector)"
   ]
  },
  {
   "cell_type": "code",
   "execution_count": 19,
   "metadata": {},
   "outputs": [
    {
     "data": {
      "text/plain": [
       "Index(['age', 'Medu', 'Fedu', 'traveltime', 'studytime', 'failures', 'famrel',\n",
       "       'freetime', 'goout', 'Dalc', 'Walc', 'health', 'absences', 'G2',\n",
       "       'school_MS', 'sex_M', 'address_U', 'famsize_LE3', 'Pstatus_T',\n",
       "       'Mjob_health', 'Mjob_other', 'Mjob_services', 'Mjob_teacher',\n",
       "       'Fjob_health', 'Fjob_other', 'Fjob_services', 'Fjob_teacher',\n",
       "       'reason_home', 'reason_other', 'reason_reputation', 'guardian_mother',\n",
       "       'guardian_other', 'schoolsup_yes', 'famsup_yes', 'paid_yes',\n",
       "       'activities_yes', 'nursery_yes', 'higher_yes', 'internet_yes',\n",
       "       'romantic_yes'],\n",
       "      dtype='object')"
      ]
     },
     "execution_count": 19,
     "metadata": {},
     "output_type": "execute_result"
    }
   ],
   "source": [
    "student_data_without_label=student_data.drop(axis = 1,labels= [\"G3\"],inplace=False)\n",
    "features=student_data_without_label.columns\n",
    "features"
   ]
  },
  {
   "cell_type": "code",
   "execution_count": 20,
   "metadata": {},
   "outputs": [
    {
     "data": {
      "text/plain": [
       "Text(204.0, 0.5, 'Principal components')"
      ]
     },
     "execution_count": 20,
     "metadata": {},
     "output_type": "execute_result"
    },
    {
     "data": {
      "image/png": "[encoded data removed]",
      "text/plain": [
       "<Figure size 1800x360 with 2 Axes>"
      ]
     },
     "metadata": {
      "needs_background": "light"
     },
     "output_type": "display_data"
    }
   ],
   "source": [
    "#Visualize coefficients using heat map\n",
    "\n",
    "plt.figure(figsize=[25,5])\n",
    "sns.heatmap(pca.components_[0:7,:],annot=True,cmap='viridis')\n",
    "plt.yticks([0,1,2,3,4,5,6,7],[\"First component\",\"Second component\",\"Third component\",\"Fourth component\",\"Fifth component\",\"Sixth component\",\"Seventh component\",\"Eighth component\"],rotation=360,ha=\"right\")\n",
    "plt.xticks(range(len(features)),features,rotation=90,ha=\"left\")\n",
    "plt.xlabel(\"Feature\")\n",
    "plt.ylabel(\"Principal components\")"
   ]
  },
  {
   "cell_type": "code",
   "execution_count": 21,
   "metadata": {},
   "outputs": [],
   "source": [
    "lr_pca = linear_model.LinearRegression()"
   ]
  },
  {
   "cell_type": "code",
   "execution_count": 22,
   "metadata": {},
   "outputs": [
    {
     "name": "stdout",
     "output_type": "stream",
     "text": [
      "PCA Model Cross Validation score : [0.87587861 0.73033901 0.73559423 0.83448587 0.82221483]\n",
      "PCA Model Cross Validation Mean score : 0.7997025111309425\n"
     ]
    }
   ],
   "source": [
    "score_lr_pca = cross_val_score(lr_pca, Transformed_vector, label, cv=5)\n",
    "print(\"PCA Model Cross Validation score : \" + str(score_lr_pca))\n",
    "print(\"PCA Model Cross Validation Mean score : \" + str(score_lr_pca.mean()))"
   ]
  },
  {
   "cell_type": "code",
   "execution_count": 23,
   "metadata": {},
   "outputs": [
    {
     "name": "stdout",
     "output_type": "stream",
     "text": [
      "LR Model Cross Validation score : [0.87841656 0.71763428 0.7310715  0.79448747 0.8121261 ]\n",
      "LR Model Cross Validation Mean score : 0.7867471805758175\n"
     ]
    }
   ],
   "source": [
    "lr = linear_model.LinearRegression()\n",
    "score_lr = cross_val_score(lr, predictors, label, cv=5)\n",
    "print(\"LR Model Cross Validation score : \" + str(score_lr))\n",
    "print(\"LR Model Cross Validation Mean score : \" + str(score_lr.mean()))"
   ]
  },
  {
   "cell_type": "code",
   "execution_count": 24,
   "metadata": {},
   "outputs": [
    {
     "data": {
      "text/plain": [
       "array([[18,  4,  4, ...,  1,  0,  0],\n",
       "       [17,  1,  1, ...,  1,  1,  0],\n",
       "       [15,  1,  1, ...,  1,  1,  0],\n",
       "       ...,\n",
       "       [18,  1,  1, ...,  1,  0,  0],\n",
       "       [17,  3,  1, ...,  1,  1,  0],\n",
       "       [18,  3,  2, ...,  1,  1,  0]], dtype=int64)"
      ]
     },
     "execution_count": 24,
     "metadata": {},
     "output_type": "execute_result"
    }
   ],
   "source": [
    "predictors\n"
   ]
  },
  {
   "cell_type": "code",
   "execution_count": null,
   "metadata": {
    "collapsed": true
   },
   "outputs": [],
   "source": []
  }
 ],
 "metadata": {
  "kernelspec": {
   "display_name": "Python 3",
   "language": "python",
   "name": "python3"
  },
  "language_info": {
   "codemirror_mode": {
    "name": "ipython",
    "version": 3
   },
   "file_extension": ".py",
   "mimetype": "text/x-python",
   "name": "python",
   "nbconvert_exporter": "python",
   "pygments_lexer": "ipython3",
   "version": "3.7.4"
  }
 },
 "nbformat": 4,
 "nbformat_minor": 2
}
